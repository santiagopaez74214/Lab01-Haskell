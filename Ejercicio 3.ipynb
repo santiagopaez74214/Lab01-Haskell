{
 "cells": [
  {
   "cell_type": "markdown",
   "id": "a60cd22b-38e3-4214-b4ab-3fb0fbf19488",
   "metadata": {},
   "source": [
    "## Ejercicio 3 - Definición de funciones: composición y casos\n"
   ]
  },
  {
   "cell_type": "markdown",
   "id": "47979989-3ce7-4556-ab2d-86b213a76190",
   "metadata": {},
   "source": [
    "### 1. Define las siguientes funciones:\n",
    "\n"
   ]
  },
  {
   "cell_type": "code",
   "execution_count": 1,
   "id": "5e0195b1-709b-4896-9333-9dd14f1dcade",
   "metadata": {
    "tags": []
   },
   "outputs": [
    {
     "data": {
      "text/plain": [
       "13"
      ]
     },
     "metadata": {},
     "output_type": "display_data"
    }
   ],
   "source": [
    "suma:: Int -> Int -> Int\n",
    "suma x y = x + y\n",
    "cuadrado:: Int -> Int\n",
    "cuadrado x = x * x\n",
    "sumaCuadrados :: Int -> Int -> Int\n",
    "sumaCuadrados x y = suma(cuadrado x) (cuadrado y)\n",
    "sumaCuadrados 2 3"
   ]
  },
  {
   "cell_type": "code",
   "execution_count": 2,
   "id": "0089cc0e-b3dd-4e1a-8faa-07530eca93d3",
   "metadata": {
    "tags": []
   },
   "outputs": [
    {
     "data": {
      "text/html": [
       "<style>/* Styles used for the Hoogle display in the pager */\n",
       ".hoogle-doc {\n",
       "display: block;\n",
       "padding-bottom: 1.3em;\n",
       "padding-left: 0.4em;\n",
       "}\n",
       ".hoogle-code {\n",
       "display: block;\n",
       "font-family: monospace;\n",
       "white-space: pre;\n",
       "}\n",
       ".hoogle-text {\n",
       "display: block;\n",
       "}\n",
       ".hoogle-name {\n",
       "color: green;\n",
       "font-weight: bold;\n",
       "}\n",
       ".hoogle-head {\n",
       "font-weight: bold;\n",
       "}\n",
       ".hoogle-sub {\n",
       "display: block;\n",
       "margin-left: 0.4em;\n",
       "}\n",
       ".hoogle-package {\n",
       "font-weight: bold;\n",
       "font-style: italic;\n",
       "}\n",
       ".hoogle-module {\n",
       "font-weight: bold;\n",
       "}\n",
       ".hoogle-class {\n",
       "font-weight: bold;\n",
       "}\n",
       "\n",
       ".get-type {\n",
       "color: green;\n",
       "font-weight: bold;\n",
       "font-family: monospace;\n",
       "display: block;\n",
       "white-space: pre-wrap;\n",
       "}\n",
       ".show-type {\n",
       "color: green;\n",
       "font-weight: bold;\n",
       "font-family: monospace;\n",
       "margin-left: 1em;\n",
       "}\n",
       ".mono {\n",
       "font-family: monospace;\n",
       "display: block;\n",
       "}\n",
       ".err-msg {\n",
       "color: red;\n",
       "font-style: italic;\n",
       "font-family: monospace;\n",
       "white-space: pre;\n",
       "display: block;\n",
       "}\n",
       "#unshowable {\n",
       "color: red;\n",
       "font-weight: bold;\n",
       "}\n",
       ".err-msg.in.collapse {\n",
       "padding-top: 0.7em;\n",
       "}\n",
       "\n",
       ".highlight-code {\n",
       "white-space: pre;\n",
       "font-family: monospace;\n",
       "}\n",
       "\n",
       ".suggestion-warning { \n",
       "font-weight: bold;\n",
       "color: rgb(200, 130, 0);\n",
       "}\n",
       ".suggestion-error { \n",
       "font-weight: bold;\n",
       "color: red;\n",
       "}\n",
       ".suggestion-name {\n",
       "font-weight: bold;\n",
       "}\n",
       "\n",
       "</style><div class=\"suggestion-name\" style=\"clear:both;\">Eta reduce</div><div class=\"suggestion-row\" style=\"float: left;\"><div class=\"suggestion-warning\">Found:</div><div class=\"highlight-code\" id=\"haskell\">dobleLista x = map duplicar x</div></div><div class=\"suggestion-row\" style=\"float: left;\"><div class=\"suggestion-warning\">Why Not:</div><div class=\"highlight-code\" id=\"haskell\">dobleLista = map duplicar</div></div>"
      ],
      "text/plain": [
       "Line 4: Eta reduce\n",
       "Found:\n",
       "dobleLista x = map duplicar x\n",
       "Why not:\n",
       "dobleLista = map duplicar"
      ]
     },
     "metadata": {},
     "output_type": "display_data"
    },
    {
     "data": {
      "text/plain": [
       "[2,4,6,10]"
      ]
     },
     "metadata": {},
     "output_type": "display_data"
    }
   ],
   "source": [
    "duplicar :: Int -> Int\n",
    "duplicar x = x * 2\n",
    "dobleLista :: [Int] -> [Int]\n",
    "dobleLista x = map duplicar x\n",
    "dobleLista [1,2,3,5]"
   ]
  },
  {
   "cell_type": "markdown",
   "id": "c5a83ab5-afc9-44ac-bc23-d6476481198c",
   "metadata": {},
   "source": [
    "#### Averigua cual es la forma mas simple de implementar esto\n"
   ]
  },
  {
   "cell_type": "code",
   "execution_count": null,
   "id": "8c9afc9a-f26e-4381-a2fd-6d6afe91a59e",
   "metadata": {},
   "outputs": [],
   "source": []
  },
  {
   "cell_type": "markdown",
   "id": "2655457c-d086-4be1-89db-efc3af3bd0df",
   "metadata": {},
   "source": [
    "### 2. Define las siguientes funciones:"
   ]
  },
  {
   "cell_type": "code",
   "execution_count": 3,
   "id": "2f998be0-b80a-441d-8783-797f88f39906",
   "metadata": {
    "tags": []
   },
   "outputs": [
    {
     "data": {
      "text/plain": [
       "\"En recuperacion\""
      ]
     },
     "metadata": {},
     "output_type": "display_data"
    }
   ],
   "source": [
    "clasificarNota :: Int -> String\n",
    "clasificarNota x\n",
    "  | x < 3 = \"Reprobado\"\n",
    "  | 3 <= x && x < 4 = \"En recuperacion\"\n",
    "  | otherwise = \"Aprobado\"\n",
    "clasificarNota 3"
   ]
  },
  {
   "cell_type": "code",
   "execution_count": 4,
   "id": "3e2bb667-2bf6-4296-b899-2f4bd0e65b31",
   "metadata": {
    "tags": []
   },
   "outputs": [
    {
     "data": {
      "text/plain": [
       "8"
      ]
     },
     "metadata": {},
     "output_type": "display_data"
    }
   ],
   "source": [
    "fibonacci :: Int -> Int\n",
    "fibonacci 0 = 0\n",
    "fibonacci 1 = 1\n",
    "fibonacci n = fibonacci(n-1) + fibonacci(n-2)\n",
    "fibonacci 6"
   ]
  },
  {
   "cell_type": "code",
   "execution_count": null,
   "id": "9c758bd3-3b4d-4bff-b6a5-7c9196e16d03",
   "metadata": {},
   "outputs": [],
   "source": []
  }
 ],
 "metadata": {
  "kernelspec": {
   "display_name": "Haskell",
   "language": "haskell",
   "name": "haskell"
  },
  "language_info": {
   "codemirror_mode": "ihaskell",
   "file_extension": ".hs",
   "mimetype": "text/x-haskell",
   "name": "haskell",
   "pygments_lexer": "Haskell",
   "version": "9.6.4"
  }
 },
 "nbformat": 4,
 "nbformat_minor": 5
}
