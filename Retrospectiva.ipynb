{
 "cells": [
  {
   "cell_type": "markdown",
   "id": "7e4299a5-0640-4510-992c-0115704399cb",
   "metadata": {},
   "source": [
    "# Retrospectiva\n",
    "* ### ¿Cuál fue el tiempo total invertido en el laboratorio por cada uno de ustedes? (Horas/Hombre)\n",
    "El tiempo total invertido en el laboratorio fue de aproximadamente 3 horas por persona (3 horas/hombre).\n",
    "* ### ¿Cuál es el estado actual del laboratorio? ¿Por qué?\n",
    "El laboratorio se encuentra completo, ya que se realizaron en su totalidad todos los ejercicios solicitados y se probaron con los resultados esperados.\n",
    "* ### ¿Cuál consideran fue el mayor logro? ¿Por qué?\n",
    "El mayor logro fue comprender correctamente la implementación de funciones lambda en Haskell, así como resolver varios ejercicios relacionados con listas. Noteque algunos conceptos tienen similitud con lenguajes como Prolog, lo que ayudó a entender mejor.\n",
    "* ### ¿Cuál consideran que fue el mayor problema técnico? ¿Qué hicieron para resolverlo?\n",
    "El mayor problema técnico fue entender el funcionamiento de los condicionales en Haskell, ya que difieren de lenguajes como Python y requieren un enfoque distinto en la lógica de los ejercicios. Para resolverlo, busque ejemplos y y discutimos con otros compañeros para aclarar dudas, y con el apoyo del profesor\n",
    "* ### ¿Qué hicieron bien como equipo? ¿Qué se comprometen a hacer para mejorar los resultados?\n",
    "En esta ocasión trabajé de forma individual, ya que no se pudo conformar un equipo. Sin embargo, me apoyé con otros compañeros, intercambiando ideas y explicaciones para lograr una mejor comprensión del laboratorio.\n",
    "Me comprometo a formar un equipo de trabajo para futuras actividades y a seguir reforzando los contenidos mediante la lectura y la práctica constante.\n",
    "* ### ¿Qué referencias usaron? ¿Cuál fue la más útil? Incluyan citas con estándares adecuados.\n",
    "Se utilizaron referencias obtenidas a través de búsquedas en Google y el texto guía proporcionado por el docente como preparación para la clase, y la presentación del día viernes.\n",
    "Una de las referencias más útiles fue la explicación sobre el uso de la función mod y la sintaxis correcta de las funciones lambda en Haskell."
   ]
  },
  {
   "cell_type": "code",
   "execution_count": null,
   "id": "9d9aa76d-b52a-44d0-a52a-2dd34cb4770e",
   "metadata": {},
   "outputs": [],
   "source": []
  }
 ],
 "metadata": {
  "kernelspec": {
   "display_name": "Haskell",
   "language": "haskell",
   "name": "haskell"
  },
  "language_info": {
   "codemirror_mode": "ihaskell",
   "file_extension": ".hs",
   "mimetype": "text/x-haskell",
   "name": "haskell",
   "pygments_lexer": "Haskell",
   "version": "9.6.4"
  }
 },
 "nbformat": 4,
 "nbformat_minor": 5
}
