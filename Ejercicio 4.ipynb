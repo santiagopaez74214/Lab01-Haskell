{
 "cells": [
  {
   "cell_type": "markdown",
   "id": "59c7ea52-b334-4d51-b1c5-0d09f2b01923",
   "metadata": {},
   "source": [
    "# Ejercicio 4 - Evaluación funcional\n"
   ]
  },
  {
   "cell_type": "markdown",
   "id": "84e67264-5784-483d-a2e8-2e8d9310bcb3",
   "metadata": {},
   "source": [
    "### 1. Predice la evaluación paso a paso\n",
    "\n"
   ]
  },
  {
   "cell_type": "markdown",
   "id": "a421f2c9-7f03-4652-adce-36f077aa74af",
   "metadata": {},
   "source": [
    "## Prediccion\n",
    "Mi prediccion es que va a genera una lista de cinco números los cuales arrancan en dos hasta diez aumentando de dos en dos"
   ]
  },
  {
   "cell_type": "code",
   "execution_count": 1,
   "id": "dd423358-79e1-467d-85a8-e35f2207d82c",
   "metadata": {
    "tags": []
   },
   "outputs": [
    {
     "data": {
      "text/plain": [
       "[2,4,6,8,10]"
      ]
     },
     "metadata": {},
     "output_type": "display_data"
    }
   ],
   "source": [
    "take 5 (map (*2) [1..])"
   ]
  },
  {
   "cell_type": "markdown",
   "id": "3a496600-53a4-48ea-bcfc-98c27b0b9783",
   "metadata": {},
   "source": [
    "### Pregunta de análisis: ¿Por qué [1..] no causa un ciclo infinito?\n",
    "No lo causa porque sencillamente se usa la funcion take 5 por lo que no se hace hasta el infinito sino tomando únicamente cinco números"
   ]
  },
  {
   "cell_type": "markdown",
   "id": "ec1740aa-ffb3-452f-8dde-7dfa786070c4",
   "metadata": {},
   "source": [
    "### 2. Considera la siguiente función: misterio x y = if x > 10 then y * 2 else x + y\n",
    "\n"
   ]
  },
  {
   "cell_type": "markdown",
   "id": "2c5dd9ab-1c6e-41d7-9b25-e73f499ecccb",
   "metadata": {},
   "source": [
    "1. Paso 1 con $x = 5 + 7= 12$ , $y = 4 * 3= 12$\n",
    "2. Paso 2 y como $x = 12 > 10$ como esto es verdad entonces nos dice que tenemos que hacer $y * 2$, es decir,  $12 * 2= 24$\n",
    "3. Paso 3 Quedando finalmente 24"
   ]
  },
  {
   "cell_type": "code",
   "execution_count": 2,
   "id": "f7bcf7bf-1a22-4ae5-801b-2077146d3fd8",
   "metadata": {
    "tags": []
   },
   "outputs": [
    {
     "data": {
      "text/plain": [
       "24"
      ]
     },
     "metadata": {},
     "output_type": "display_data"
    }
   ],
   "source": [
    "misterio x y = if x > 10 then y * 2 else x + y\n",
    "misterio (5+7) (4*3)"
   ]
  },
  {
   "cell_type": "code",
   "execution_count": null,
   "id": "fc8ab264-f197-4d1d-aaa9-133a83161147",
   "metadata": {},
   "outputs": [],
   "source": []
  }
 ],
 "metadata": {
  "kernelspec": {
   "display_name": "Haskell",
   "language": "haskell",
   "name": "haskell"
  },
  "language_info": {
   "codemirror_mode": "ihaskell",
   "file_extension": ".hs",
   "mimetype": "text/x-haskell",
   "name": "haskell",
   "pygments_lexer": "Haskell",
   "version": "9.6.4"
  }
 },
 "nbformat": 4,
 "nbformat_minor": 5
}
