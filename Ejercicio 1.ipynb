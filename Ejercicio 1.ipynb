{
 "cells": [
  {
   "cell_type": "markdown",
   "id": "48e5d415-63e6-4369-ae4e-97cf4de7015b",
   "metadata": {},
   "source": [
    "# Ejercicio 1 - Fundamentos básicos y tipos\n"
   ]
  },
  {
   "cell_type": "markdown",
   "id": "d5c44d50-e67d-49ed-86dd-08754322b83e",
   "metadata": {
    "tags": []
   },
   "source": [
    "## 1. Escribe el codigo correspondiente para concatenar dos listas: [1,2,3] y [4,5]"
   ]
  },
  {
   "cell_type": "code",
   "execution_count": 1,
   "id": "c8155fd8-27c6-40db-bbf9-b6ed1a113a5c",
   "metadata": {
    "tags": []
   },
   "outputs": [
    {
     "data": {
      "text/plain": [
       "[1,2,3,4,5]"
      ]
     },
     "metadata": {},
     "output_type": "display_data"
    }
   ],
   "source": [
    "concatenar :: [a] -> [a] -> [a]\n",
    "concatenar xs ys = xs ++ ys\n",
    "concatenar [1,2,3] [4,5]"
   ]
  },
  {
   "cell_type": "markdown",
   "id": "2eb46986-f309-4f11-8fdc-65617cbec119",
   "metadata": {},
   "source": [
    "## 2. Revisa el tipo de una expresión usando :t, por ejemplo\n",
    "\n"
   ]
  },
  {
   "cell_type": "code",
   "execution_count": 2,
   "id": "ae5d962d-7839-461b-bf2c-8854baebdcac",
   "metadata": {
    "tags": []
   },
   "outputs": [
    {
     "data": {
      "text/html": [
       "<style>/* Styles used for the Hoogle display in the pager */\n",
       ".hoogle-doc {\n",
       "display: block;\n",
       "padding-bottom: 1.3em;\n",
       "padding-left: 0.4em;\n",
       "}\n",
       ".hoogle-code {\n",
       "display: block;\n",
       "font-family: monospace;\n",
       "white-space: pre;\n",
       "}\n",
       ".hoogle-text {\n",
       "display: block;\n",
       "}\n",
       ".hoogle-name {\n",
       "color: green;\n",
       "font-weight: bold;\n",
       "}\n",
       ".hoogle-head {\n",
       "font-weight: bold;\n",
       "}\n",
       ".hoogle-sub {\n",
       "display: block;\n",
       "margin-left: 0.4em;\n",
       "}\n",
       ".hoogle-package {\n",
       "font-weight: bold;\n",
       "font-style: italic;\n",
       "}\n",
       ".hoogle-module {\n",
       "font-weight: bold;\n",
       "}\n",
       ".hoogle-class {\n",
       "font-weight: bold;\n",
       "}\n",
       "\n",
       ".get-type {\n",
       "color: green;\n",
       "font-weight: bold;\n",
       "font-family: monospace;\n",
       "display: block;\n",
       "white-space: pre-wrap;\n",
       "}\n",
       ".show-type {\n",
       "color: green;\n",
       "font-weight: bold;\n",
       "font-family: monospace;\n",
       "margin-left: 1em;\n",
       "}\n",
       ".mono {\n",
       "font-family: monospace;\n",
       "display: block;\n",
       "}\n",
       ".err-msg {\n",
       "color: red;\n",
       "font-style: italic;\n",
       "font-family: monospace;\n",
       "white-space: pre;\n",
       "display: block;\n",
       "}\n",
       "#unshowable {\n",
       "color: red;\n",
       "font-weight: bold;\n",
       "}\n",
       ".err-msg.in.collapse {\n",
       "padding-top: 0.7em;\n",
       "}\n",
       "\n",
       ".highlight-code {\n",
       "white-space: pre;\n",
       "font-family: monospace;\n",
       "}\n",
       "\n",
       ".suggestion-warning { \n",
       "font-weight: bold;\n",
       "color: rgb(200, 130, 0);\n",
       "}\n",
       ".suggestion-error { \n",
       "font-weight: bold;\n",
       "color: red;\n",
       "}\n",
       ".suggestion-name {\n",
       "font-weight: bold;\n",
       "}\n",
       "\n",
       "</style><span class='get-type'>True :: Bool</span>"
      ],
      "text/plain": [
       "True :: Bool"
      ]
     },
     "metadata": {},
     "output_type": "display_data"
    },
    {
     "data": {
      "text/html": [
       "<style>/* Styles used for the Hoogle display in the pager */\n",
       ".hoogle-doc {\n",
       "display: block;\n",
       "padding-bottom: 1.3em;\n",
       "padding-left: 0.4em;\n",
       "}\n",
       ".hoogle-code {\n",
       "display: block;\n",
       "font-family: monospace;\n",
       "white-space: pre;\n",
       "}\n",
       ".hoogle-text {\n",
       "display: block;\n",
       "}\n",
       ".hoogle-name {\n",
       "color: green;\n",
       "font-weight: bold;\n",
       "}\n",
       ".hoogle-head {\n",
       "font-weight: bold;\n",
       "}\n",
       ".hoogle-sub {\n",
       "display: block;\n",
       "margin-left: 0.4em;\n",
       "}\n",
       ".hoogle-package {\n",
       "font-weight: bold;\n",
       "font-style: italic;\n",
       "}\n",
       ".hoogle-module {\n",
       "font-weight: bold;\n",
       "}\n",
       ".hoogle-class {\n",
       "font-weight: bold;\n",
       "}\n",
       "\n",
       ".get-type {\n",
       "color: green;\n",
       "font-weight: bold;\n",
       "font-family: monospace;\n",
       "display: block;\n",
       "white-space: pre-wrap;\n",
       "}\n",
       ".show-type {\n",
       "color: green;\n",
       "font-weight: bold;\n",
       "font-family: monospace;\n",
       "margin-left: 1em;\n",
       "}\n",
       ".mono {\n",
       "font-family: monospace;\n",
       "display: block;\n",
       "}\n",
       ".err-msg {\n",
       "color: red;\n",
       "font-style: italic;\n",
       "font-family: monospace;\n",
       "white-space: pre;\n",
       "display: block;\n",
       "}\n",
       "#unshowable {\n",
       "color: red;\n",
       "font-weight: bold;\n",
       "}\n",
       ".err-msg.in.collapse {\n",
       "padding-top: 0.7em;\n",
       "}\n",
       "\n",
       ".highlight-code {\n",
       "white-space: pre;\n",
       "font-family: monospace;\n",
       "}\n",
       "\n",
       ".suggestion-warning { \n",
       "font-weight: bold;\n",
       "color: rgb(200, 130, 0);\n",
       "}\n",
       ".suggestion-error { \n",
       "font-weight: bold;\n",
       "color: red;\n",
       "}\n",
       ".suggestion-name {\n",
       "font-weight: bold;\n",
       "}\n",
       "\n",
       "</style><span class='get-type'>\"Hola mundo\" :: String</span>"
      ],
      "text/plain": [
       "\"Hola mundo\" :: String"
      ]
     },
     "metadata": {},
     "output_type": "display_data"
    },
    {
     "data": {
      "text/html": [
       "<style>/* Styles used for the Hoogle display in the pager */\n",
       ".hoogle-doc {\n",
       "display: block;\n",
       "padding-bottom: 1.3em;\n",
       "padding-left: 0.4em;\n",
       "}\n",
       ".hoogle-code {\n",
       "display: block;\n",
       "font-family: monospace;\n",
       "white-space: pre;\n",
       "}\n",
       ".hoogle-text {\n",
       "display: block;\n",
       "}\n",
       ".hoogle-name {\n",
       "color: green;\n",
       "font-weight: bold;\n",
       "}\n",
       ".hoogle-head {\n",
       "font-weight: bold;\n",
       "}\n",
       ".hoogle-sub {\n",
       "display: block;\n",
       "margin-left: 0.4em;\n",
       "}\n",
       ".hoogle-package {\n",
       "font-weight: bold;\n",
       "font-style: italic;\n",
       "}\n",
       ".hoogle-module {\n",
       "font-weight: bold;\n",
       "}\n",
       ".hoogle-class {\n",
       "font-weight: bold;\n",
       "}\n",
       "\n",
       ".get-type {\n",
       "color: green;\n",
       "font-weight: bold;\n",
       "font-family: monospace;\n",
       "display: block;\n",
       "white-space: pre-wrap;\n",
       "}\n",
       ".show-type {\n",
       "color: green;\n",
       "font-weight: bold;\n",
       "font-family: monospace;\n",
       "margin-left: 1em;\n",
       "}\n",
       ".mono {\n",
       "font-family: monospace;\n",
       "display: block;\n",
       "}\n",
       ".err-msg {\n",
       "color: red;\n",
       "font-style: italic;\n",
       "font-family: monospace;\n",
       "white-space: pre;\n",
       "display: block;\n",
       "}\n",
       "#unshowable {\n",
       "color: red;\n",
       "font-weight: bold;\n",
       "}\n",
       ".err-msg.in.collapse {\n",
       "padding-top: 0.7em;\n",
       "}\n",
       "\n",
       ".highlight-code {\n",
       "white-space: pre;\n",
       "font-family: monospace;\n",
       "}\n",
       "\n",
       ".suggestion-warning { \n",
       "font-weight: bold;\n",
       "color: rgb(200, 130, 0);\n",
       "}\n",
       ".suggestion-error { \n",
       "font-weight: bold;\n",
       "color: red;\n",
       "}\n",
       ".suggestion-name {\n",
       "font-weight: bold;\n",
       "}\n",
       "\n",
       "</style><span class='get-type'>[1,2,3] :: forall {a}. Num a => [a]</span>"
      ],
      "text/plain": [
       "[1,2,3] :: forall {a}. Num a => [a]"
      ]
     },
     "metadata": {},
     "output_type": "display_data"
    }
   ],
   "source": [
    " :t True\n",
    " :t \"Hola mundo\"\n",
    " :t [1,2,3]"
   ]
  },
  {
   "cell_type": "markdown",
   "id": "335ad1df-7cbb-439a-b912-cdae4d226753",
   "metadata": {},
   "source": [
    "## Pregunta Teórica ¿Qué significa que Haskell sea un lenguaje fuertemente tipado y evaluado perezosamente?"
   ]
  },
  {
   "cell_type": "markdown",
   "id": "6a5feeac-0155-4b80-be34-6c50e05d2272",
   "metadata": {},
   "source": [
    "El tipado significa que el tipo de cada expresión se conoce en tiempo de compilación, lo que previene errores de tipo y permite optimizaciones. Y por otro lado la evaluación perezosa significa que las expresiones solo se evalúan cuando su valor es necesario, lo que mejora la eficiencia. Esto permite escribir código más seguro y eficiente."
   ]
  },
  {
   "cell_type": "markdown",
   "id": "1e2be1f3-1f4b-4996-a139-2caeda9f7d63",
   "metadata": {
    "tags": []
   },
   "source": [
    "## 3. Define las siguientes funciones"
   ]
  },
  {
   "cell_type": "code",
   "execution_count": 3,
   "id": "59cd2a39-3a27-4a80-b84b-c234a7831cc7",
   "metadata": {
    "tags": []
   },
   "outputs": [
    {
     "data": {
      "text/plain": [
       "8"
      ]
     },
     "metadata": {},
     "output_type": "display_data"
    }
   ],
   "source": [
    "doble :: Int -> Int\n",
    "doble x = x*2\n",
    "doble 4"
   ]
  },
  {
   "cell_type": "code",
   "execution_count": 4,
   "id": "a8dbf060-83c6-4b99-a866-7b823341e51c",
   "metadata": {
    "tags": []
   },
   "outputs": [
    {
     "data": {
      "text/plain": [
       "True"
      ]
     },
     "metadata": {},
     "output_type": "display_data"
    }
   ],
   "source": [
    "esMayorEdad :: Int -> Bool\n",
    "esMayorEdad edad = edad >= 18\n",
    "esMayorEdad 20"
   ]
  },
  {
   "cell_type": "code",
   "execution_count": 5,
   "id": "b93ab351-57f4-4711-adf4-e131e72a86c1",
   "metadata": {
    "tags": []
   },
   "outputs": [
    {
     "data": {
      "text/plain": [
       "12.566371"
      ]
     },
     "metadata": {},
     "output_type": "display_data"
    }
   ],
   "source": [
    "areaCirculo :: Float -> Float\n",
    "areaCirculo r = pi*r*r\n",
    "areaCirculo 2.0"
   ]
  },
  {
   "cell_type": "markdown",
   "id": "93119037-02f8-4fb4-831f-9c63fb31da6e",
   "metadata": {},
   "source": [
    "## Pregunta de reflexión: ¿Qué diferencias encuentras entre los tipos Int y Float?"
   ]
  },
  {
   "cell_type": "markdown",
   "id": "a896894f-d6fb-4d64-966f-609e7c588f05",
   "metadata": {},
   "source": [
    "Int se trata de un número exacto mientras que, float puede ser una aproximación como el numero pi, y que el primero no admite decimales mientras que el otro si"
   ]
  },
  {
   "cell_type": "code",
   "execution_count": null,
   "id": "2b425a6a-d104-4447-9724-8f1185cc9bc3",
   "metadata": {},
   "outputs": [],
   "source": []
  }
 ],
 "metadata": {
  "kernelspec": {
   "display_name": "Haskell",
   "language": "haskell",
   "name": "haskell"
  },
  "language_info": {
   "codemirror_mode": "ihaskell",
   "file_extension": ".hs",
   "mimetype": "text/x-haskell",
   "name": "haskell",
   "pygments_lexer": "Haskell",
   "version": "9.6.4"
  }
 },

}
